{
  "nbformat": 4,
  "nbformat_minor": 0,
  "metadata": {
    "colab": {
      "provenance": [],
      "name": "Homework 2",
      "authorship_tag": "ABX9TyP7RBvbNVd5AVJDDIuulTz0",
      "include_colab_link": true
    },
    "kernelspec": {
      "name": "python3",
      "display_name": "Python 3"
    },
    "language_info": {
      "name": "python"
    }
  },
  "cells": [
    {
      "cell_type": "markdown",
      "metadata": {
        "id": "view-in-github",
        "colab_type": "text"
      },
      "source": [
        "<a href=\"https://colab.research.google.com/github/maucerit/BME3053C-Spring-2025/blob/main/Homework/Homework_2.ipynb\" target=\"_parent\"><img src=\"https://colab.research.google.com/assets/colab-badge.svg\" alt=\"Open In Colab\"/></a>"
      ]
    },
    {
      "cell_type": "code",
      "execution_count": null,
      "metadata": {
        "colab": {
          "base_uri": "https://localhost:8080/"
        },
        "id": "DsuEQ40oqKIb",
        "outputId": "8672d4df-40b7-4a78-d979-ff2100c951d1"
      },
      "outputs": [
        {
          "output_type": "stream",
          "name": "stdout",
          "text": [
            "[0.0, 0.32075471698113206, 0.5849056603773585, 0.05660377358490566, 0.7924528301886793, 1.0, 0.1320754716981132, 0.6415094339622641]\n"
          ]
        },
        {
          "output_type": "execute_result",
          "data": {
            "text/plain": [
              "[0.0,\n",
              " 0.32075471698113206,\n",
              " 0.5849056603773585,\n",
              " 0.05660377358490566,\n",
              " 0.7924528301886793,\n",
              " 1.0,\n",
              " 0.1320754716981132,\n",
              " 0.6415094339622641]"
            ]
          },
          "metadata": {},
          "execution_count": 4
        }
      ],
      "source": [
        "bp_readings = [120, 137, 151, 123, 162, 173, 127, 154]\n",
        "\n",
        "def normalize_bp(bp_readings):\n",
        "    min_value = min(bp_readings)\n",
        "    max_value = max(bp_readings)\n",
        "\n",
        "    normalized_values = []\n",
        "    for bp in bp_readings:\n",
        "        normalized_value = (bp - min_value) / (max_value - min_value)\n",
        "        normalized_values.append(normalized_value)\n",
        "\n",
        "    return normalized_values\n",
        "\n",
        "print(normalize_bp(bp_readings))\n"
      ]
    }
  ]
}