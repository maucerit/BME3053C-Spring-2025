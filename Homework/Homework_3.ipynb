{
  "nbformat": 4,
  "nbformat_minor": 0,
  "metadata": {
    "colab": {
      "provenance": [],
      "name": "Homework 2",
      "authorship_tag": "ABX9TyP6a1P0NDqi80plhTthh25e",
      "include_colab_link": true
    },
    "kernelspec": {
      "name": "python3",
      "display_name": "Python 3"
    },
    "language_info": {
      "name": "python"
    }
  },
  "cells": [
    {
      "cell_type": "markdown",
      "metadata": {
        "id": "view-in-github",
        "colab_type": "text"
      },
      "source": [
        "<a href=\"https://colab.research.google.com/github/maucerit/BME3053C-Spring-2025/blob/main/Homework/Homework_3.ipynb\" target=\"_parent\"><img src=\"https://colab.research.google.com/assets/colab-badge.svg\" alt=\"Open In Colab\"/></a>"
      ]
    },
    {
      "cell_type": "code",
      "execution_count": 1,
      "metadata": {
        "colab": {
          "base_uri": "https://localhost:8080/"
        },
        "id": "DsuEQ40oqKIb",
        "outputId": "57f47da7-5891-4478-9d6b-c0fba8fc0417"
      },
      "outputs": [
        {
          "output_type": "stream",
          "name": "stdout",
          "text": [
            "Total number of peaks:  31\n"
          ]
        }
      ],
      "source": [
        "import math\n",
        "import random\n",
        "\n",
        "\n",
        "ppg_signal = [1000 + 100 * math.sin(0.1 * x) + random.randint(-20, 20) for x in range(100)]\n",
        "\n",
        "def count_peaks(signal):\n",
        "    peak_count = 0\n",
        "\n",
        "    for i in range(1, len(signal) - 1):\n",
        "        if signal[i] > signal[i - 1] and signal[i] > signal[i + 1]:\n",
        "            peak_count += 1\n",
        "\n",
        "    print(\"Total number of peaks: \",peak_count)\n",
        "\n",
        "count_peaks(ppg_signal)"
      ]
    }
  ]
}